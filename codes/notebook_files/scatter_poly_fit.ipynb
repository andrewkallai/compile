{
 "cells": [
  {
   "cell_type": "code",
   "execution_count": null,
   "metadata": {},
   "outputs": [],
   "source": [
    "import numpy as np\n",
    "import matplotlib.pyplot as plt\n",
    "\n",
    "data = pandas.read_csv(\"../3cpp.csv\")\n",
    "compile_times = data[\"compile_time\"].tolist()\n",
    "text_segment_size = data[\"text_segment_size\"].tolist()\n",
    "\n",
    "\n",
    "\n",
    "c, b, a = np.polyfit(text_segment_size, compile_times, 2)\n",
    "x_axis = range(min(text_segment_size), max(text_segment_size), 10)\n",
    "z = np.polyval([c,b,a], x_axis)\n",
    "plt.scatter(text_segment_size,compile_times)#compile_times) # Definere selve plottet\n",
    "plt.xscale(\"log\")\n",
    "plt.yscale(\"log\")\n",
    "plt.plot(x_axis,z, 'r')\n",
    "plt.legend([\"fit\",\"original\"])\n",
    "\n",
    "plt.show()"
   ]
  }
 ],
 "metadata": {
  "kernelspec": {
   "display_name": "Python 3",
   "language": "python",
   "name": "python3"
  },
  "language_info": {
   "codemirror_mode": {
    "name": "ipython",
    "version": 3
   },
   "file_extension": ".py",
   "mimetype": "text/x-python",
   "name": "python",
   "nbconvert_exporter": "python",
   "pygments_lexer": "ipython3",
   "version": "3.7.0"
  }
 },
 "nbformat": 4,
 "nbformat_minor": 2
}

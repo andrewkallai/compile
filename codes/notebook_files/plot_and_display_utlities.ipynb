{
 "cells": [
  {
   "cell_type": "code",
   "execution_count": null,
   "metadata": {},
   "outputs": [],
   "source": [
    "%matplotlib inline\n",
    "from fitting_and_plotting import plot_instruction_counts_v_textseg, plot_instruction_counts_histograms\n",
    "from read_column import outlier_rows\n",
    "import csv\n",
    "from IPython.display import HTML\n",
    "import pandas   \n",
    "\n",
    "langs = pandas.read_csv('/home/3302/hf_py_code/compile/codes/dataset_to_files/indices.csv')[\"language\"]\n",
    "STORAGE=\"/home/3302/hf_py_code/compile/csv_data/inst_scatterplots/\"\n"
   ]
  },
  {
   "cell_type": "code",
   "execution_count": null,
   "metadata": {},
   "outputs": [],
   "source": [
    "for i in langs:\n",
    "    plot_instruction_counts_histograms(i, STORAGE, show=True)"
   ]
  },
  {
   "cell_type": "code",
   "execution_count": null,
   "metadata": {},
   "outputs": [],
   "source": [
    "for i in langs:\n",
    "    plot_instruction_counts_v_textseg(i, STORAGE, show=True)"
   ]
  },
  {
   "cell_type": "code",
   "execution_count": null,
   "metadata": {},
   "outputs": [],
   "source": [
    "HTML(outlier_rows(\"c\", STORAGE).to_html(index=False))"
   ]
  },
  {
   "cell_type": "code",
   "execution_count": null,
   "metadata": {},
   "outputs": [],
   "source": []
  }
 ],
 "metadata": {
  "kernelspec": {
   "display_name": "Python 3",
   "language": "python",
   "name": "python3"
  },
  "language_info": {
   "codemirror_mode": {
    "name": "ipython",
    "version": 3
   },
   "file_extension": ".py",
   "mimetype": "text/x-python",
   "name": "python",
   "nbconvert_exporter": "python",
   "pygments_lexer": "ipython3",
   "version": "3.7.0"
  }
 },
 "nbformat": 4,
 "nbformat_minor": 2
}

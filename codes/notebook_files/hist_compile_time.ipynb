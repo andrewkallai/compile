{
 "cells": [
  {
   "cell_type": "code",
   "execution_count": 11,
   "metadata": {},
   "outputs": [
    {
     "data": {
      "image/png": "[encoded data removed]",
      "text/plain": [
       "<Figure size 432x288 with 1 Axes>"
      ]
     },
     "metadata": {
      "needs_background": "light"
     },
     "output_type": "display_data"
    }
   ],
   "source": [
    "from matplotlib import pyplot\n",
    "\n",
    "data = pandas.read_csv(\"../3cpp.csv\")\n",
    "compile_times = data[\"compile_time\"].tolist()\n",
    "text_segment_size = data[\"text_segment_size\"].tolist()\n",
    "\n",
    "#datamin = 0\n",
    "#datamax = max(compile_times)\n",
    "#mybins = np.linspace(datamin, datamax, numbins)\n",
    "mybins='auto'\n",
    "\n",
    "pyplot.hist(compile_times, bins=mybins, alpha=0.6, color='b')\n",
    "pyplot.xscale(\"log\")\n",
    "pyplot.yscale(\"log\")\n",
    "pyplot.xlabel('Compile Time (seconds)')\n",
    "pyplot.ylabel('No. of IR Files')\n",
    "\n",
    "index = compile_times.index(datamax)\n",
    "pyplot.text(compile_times[index], 1.1, round(compile_times[index], 2), ha = 'center')\n",
    "pyplot.show()\n",
    "#plt.savefig(\"o3_cpp_hist.pdf\", format=\"pdf\", bbox_inches=\"tight\")\n"
   ]
  },
  {
   "cell_type": "code",
   "execution_count": null,
   "metadata": {},
   "outputs": [],
   "source": []
  }
 ],
 "metadata": {
  "kernelspec": {
   "display_name": "Python 3",
   "language": "python",
   "name": "python3"
  },
  "language_info": {
   "codemirror_mode": {
    "name": "ipython",
    "version": 3
   },
   "file_extension": ".py",
   "mimetype": "text/x-python",
   "name": "python",
   "nbconvert_exporter": "python",
   "pygments_lexer": "ipython3",
   "version": "3.7.0"
  }
 },
 "nbformat": 4,
 "nbformat_minor": 2
}
